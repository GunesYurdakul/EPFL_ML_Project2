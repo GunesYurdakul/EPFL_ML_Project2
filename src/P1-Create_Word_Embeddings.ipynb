{
 "cells": [
  {
   "cell_type": "markdown",
   "metadata": {},
   "source": [
    "# EPFL Machine Learning: Text Classification Project\n",
    "\n",
    "## Part 1: Create Word Embeddings"
   ]
  },
  {
   "cell_type": "code",
   "execution_count": 1,
   "metadata": {
    "collapsed": true
   },
   "outputs": [],
   "source": [
    "from Dataset import DataSet\n",
    "from GloveModel import GloveModel\n",
    "from Word2VecModel import Word2VecModel\n",
    "import numpy as np\n",
    "import pickle"
   ]
  },
  {
   "cell_type": "markdown",
   "metadata": {},
   "source": [
    "### 1.1. Word2Vec Model"
   ]
  },
  {
   "cell_type": "code",
   "execution_count": 2,
   "metadata": {
    "collapsed": true
   },
   "outputs": [],
   "source": [
    "embedding_size = 128\n",
    "word_min_count = 5\n",
    "word2vec = Word2VecModel(embedding_size, word_min_count)"
   ]
  },
  {
   "cell_type": "code",
   "execution_count": 3,
   "metadata": {
    "collapsed": true
   },
   "outputs": [],
   "source": [
    "deleted_substr = ['#', '<user>', '<url>']"
   ]
  },
  {
   "cell_type": "code",
   "execution_count": null,
   "metadata": {
    "scrolled": true
   },
   "outputs": [
    {
     "name": "stdout",
     "output_type": "stream",
     "text": [
      "Adding negative tweets\n",
      "Number of tweets: 1250000\n",
      "10000 lines processed\n",
      "20000 lines processed\n",
      "30000 lines processed\n",
      "40000 lines processed\n",
      "50000 lines processed\n",
      "60000 lines processed\n",
      "70000 lines processed\n",
      "80000 lines processed\n",
      "90000 lines processed\n",
      "100000 lines processed\n",
      "110000 lines processed\n",
      "120000 lines processed\n",
      "130000 lines processed\n",
      "140000 lines processed\n",
      "150000 lines processed\n",
      "160000 lines processed\n",
      "170000 lines processed\n",
      "180000 lines processed\n",
      "190000 lines processed\n",
      "200000 lines processed\n",
      "210000 lines processed\n",
      "220000 lines processed\n",
      "230000 lines processed\n",
      "240000 lines processed\n",
      "250000 lines processed\n",
      "260000 lines processed\n",
      "270000 lines processed\n",
      "280000 lines processed\n",
      "290000 lines processed\n",
      "300000 lines processed\n",
      "310000 lines processed\n",
      "320000 lines processed\n",
      "330000 lines processed\n",
      "340000 lines processed\n",
      "350000 lines processed\n",
      "360000 lines processed\n",
      "370000 lines processed\n",
      "380000 lines processed\n",
      "390000 lines processed\n",
      "400000 lines processed\n",
      "410000 lines processed\n",
      "420000 lines processed\n",
      "430000 lines processed\n",
      "440000 lines processed\n",
      "450000 lines processed\n",
      "460000 lines processed\n",
      "470000 lines processed\n",
      "480000 lines processed\n",
      "490000 lines processed\n",
      "500000 lines processed\n",
      "510000 lines processed\n",
      "520000 lines processed\n",
      "530000 lines processed\n",
      "540000 lines processed\n",
      "550000 lines processed\n",
      "560000 lines processed\n",
      "570000 lines processed\n",
      "580000 lines processed\n",
      "590000 lines processed\n",
      "600000 lines processed\n",
      "610000 lines processed\n",
      "620000 lines processed\n",
      "630000 lines processed\n",
      "640000 lines processed\n",
      "650000 lines processed\n",
      "660000 lines processed\n",
      "670000 lines processed\n",
      "680000 lines processed\n",
      "690000 lines processed\n",
      "700000 lines processed\n",
      "710000 lines processed\n",
      "720000 lines processed\n",
      "730000 lines processed\n",
      "740000 lines processed\n",
      "750000 lines processed\n",
      "760000 lines processed\n",
      "770000 lines processed\n",
      "780000 lines processed\n",
      "790000 lines processed\n",
      "800000 lines processed\n",
      "810000 lines processed\n",
      "820000 lines processed\n",
      "830000 lines processed\n",
      "840000 lines processed\n",
      "850000 lines processed\n",
      "860000 lines processed\n",
      "870000 lines processed\n",
      "880000 lines processed\n",
      "890000 lines processed\n",
      "900000 lines processed\n",
      "910000 lines processed\n",
      "920000 lines processed\n",
      "930000 lines processed\n",
      "940000 lines processed\n",
      "950000 lines processed\n",
      "960000 lines processed\n",
      "970000 lines processed\n",
      "980000 lines processed\n",
      "990000 lines processed\n",
      "1000000 lines processed\n",
      "1010000 lines processed\n",
      "1020000 lines processed\n",
      "1030000 lines processed\n",
      "1040000 lines processed\n",
      "1050000 lines processed\n",
      "1060000 lines processed\n",
      "1070000 lines processed\n",
      "1080000 lines processed\n",
      "1090000 lines processed\n",
      "1100000 lines processed\n",
      "1110000 lines processed\n",
      "1120000 lines processed\n",
      "1130000 lines processed\n",
      "1140000 lines processed\n",
      "1150000 lines processed\n",
      "1160000 lines processed\n",
      "1170000 lines processed\n",
      "1180000 lines processed\n",
      "1190000 lines processed\n",
      "1200000 lines processed\n",
      "1210000 lines processed\n",
      "1220000 lines processed\n",
      "1230000 lines processed\n",
      "1240000 lines processed\n",
      "1250000 lines processed\n",
      "Adding positive tweets\n",
      "Number of tweets: 1250000\n",
      "10000 lines processed\n",
      "20000 lines processed\n",
      "30000 lines processed\n",
      "40000 lines processed\n",
      "50000 lines processed\n",
      "60000 lines processed\n",
      "70000 lines processed\n",
      "80000 lines processed\n",
      "90000 lines processed\n",
      "100000 lines processed\n",
      "110000 lines processed\n",
      "120000 lines processed\n",
      "130000 lines processed\n",
      "140000 lines processed\n",
      "150000 lines processed\n",
      "160000 lines processed\n",
      "170000 lines processed\n",
      "180000 lines processed\n",
      "190000 lines processed\n",
      "200000 lines processed\n",
      "210000 lines processed\n",
      "220000 lines processed\n",
      "230000 lines processed\n",
      "240000 lines processed\n",
      "250000 lines processed\n",
      "260000 lines processed\n",
      "270000 lines processed\n",
      "280000 lines processed\n",
      "290000 lines processed\n",
      "300000 lines processed\n",
      "310000 lines processed\n",
      "320000 lines processed\n",
      "330000 lines processed\n",
      "340000 lines processed\n",
      "350000 lines processed\n",
      "360000 lines processed\n",
      "370000 lines processed\n",
      "380000 lines processed\n",
      "390000 lines processed\n",
      "400000 lines processed\n",
      "410000 lines processed\n",
      "420000 lines processed\n",
      "430000 lines processed\n",
      "440000 lines processed\n",
      "450000 lines processed\n",
      "460000 lines processed\n",
      "470000 lines processed\n",
      "480000 lines processed\n",
      "490000 lines processed\n",
      "500000 lines processed\n",
      "510000 lines processed\n",
      "520000 lines processed\n",
      "530000 lines processed\n",
      "540000 lines processed\n",
      "550000 lines processed\n",
      "560000 lines processed\n",
      "570000 lines processed\n",
      "580000 lines processed\n",
      "590000 lines processed\n",
      "600000 lines processed\n",
      "610000 lines processed\n",
      "620000 lines processed\n",
      "630000 lines processed\n",
      "640000 lines processed\n",
      "650000 lines processed\n",
      "660000 lines processed\n",
      "670000 lines processed\n",
      "680000 lines processed\n",
      "690000 lines processed\n",
      "700000 lines processed\n",
      "710000 lines processed\n",
      "720000 lines processed\n",
      "730000 lines processed\n",
      "740000 lines processed\n",
      "750000 lines processed\n",
      "760000 lines processed\n",
      "770000 lines processed\n",
      "780000 lines processed\n",
      "790000 lines processed\n",
      "800000 lines processed\n",
      "810000 lines processed\n",
      "820000 lines processed\n",
      "830000 lines processed\n",
      "840000 lines processed\n",
      "850000 lines processed\n",
      "860000 lines processed\n",
      "870000 lines processed\n",
      "880000 lines processed\n",
      "890000 lines processed\n",
      "900000 lines processed\n",
      "910000 lines processed\n",
      "920000 lines processed\n",
      "930000 lines processed\n",
      "940000 lines processed\n",
      "950000 lines processed\n",
      "960000 lines processed\n",
      "970000 lines processed\n",
      "980000 lines processed\n",
      "990000 lines processed\n",
      "1000000 lines processed\n",
      "1010000 lines processed\n",
      "1020000 lines processed\n",
      "1030000 lines processed\n",
      "1040000 lines processed\n",
      "1050000 lines processed\n",
      "1060000 lines processed\n",
      "1070000 lines processed\n",
      "1080000 lines processed\n",
      "1090000 lines processed\n",
      "1100000 lines processed\n",
      "1110000 lines processed\n",
      "1120000 lines processed\n",
      "1130000 lines processed\n",
      "1140000 lines processed\n",
      "1150000 lines processed\n",
      "1160000 lines processed\n",
      "1170000 lines processed\n",
      "1180000 lines processed\n",
      "1190000 lines processed\n",
      "1200000 lines processed\n",
      "1210000 lines processed\n",
      "1220000 lines processed\n",
      "1230000 lines processed\n",
      "1240000 lines processed\n",
      "1250000 lines processed\n"
     ]
    }
   ],
   "source": [
    "word2vec.read_text('../data/train_pos_full.txt', '../data/train_neg_full.txt', deleted_substr)"
   ]
  },
  {
   "cell_type": "code",
   "execution_count": null,
   "metadata": {},
   "outputs": [
    {
     "name": "stdout",
     "output_type": "stream",
     "text": [
      "Training starts\n"
     ]
    }
   ],
   "source": [
    "word2vec.train()"
   ]
  },
  {
   "cell_type": "markdown",
   "metadata": {},
   "source": [
    "### 1.2. GloVe Model"
   ]
  },
  {
   "cell_type": "code",
   "execution_count": null,
   "metadata": {
    "collapsed": true
   },
   "outputs": [],
   "source": [
    "glove = GloveModel('../helpers/cooc.pkl')\n",
    "glove.train()"
   ]
  },
  {
   "cell_type": "code",
   "execution_count": null,
   "metadata": {
    "collapsed": true
   },
   "outputs": [],
   "source": [
    "glove_embeddings = np.load('word_embeddings_glove.npy')\n",
    "\n",
    "with open('../helpers/vocab.pkl', 'rb') as file:\n",
    "    vocab = pickle.load(file)"
   ]
  },
  {
   "cell_type": "markdown",
   "metadata": {},
   "source": [
    "### 2.1. Word Embeddings\n",
    "\n",
    "### Glove \n",
    "- Embedding Size = 20"
   ]
  },
  {
   "cell_type": "code",
   "execution_count": null,
   "metadata": {
    "collapsed": true
   },
   "outputs": [],
   "source": [
    "glove_embeddings[vocab['turkey']]"
   ]
  },
  {
   "cell_type": "markdown",
   "metadata": {},
   "source": [
    "### Word2Vec\n",
    "- Embedding Size = 200"
   ]
  },
  {
   "cell_type": "code",
   "execution_count": null,
   "metadata": {
    "collapsed": true
   },
   "outputs": [],
   "source": [
    "word2vec.model.wv['turkey']"
   ]
  }
 ],
 "metadata": {
  "kernelspec": {
   "display_name": "Python [anaconda]",
   "language": "python",
   "name": "Python [anaconda]"
  },
  "language_info": {
   "codemirror_mode": {
    "name": "ipython",
    "version": 3
   },
   "file_extension": ".py",
   "mimetype": "text/x-python",
   "name": "python",
   "nbconvert_exporter": "python",
   "pygments_lexer": "ipython3",
   "version": "3.5.5"
  }
 },
 "nbformat": 4,
 "nbformat_minor": 2
}
