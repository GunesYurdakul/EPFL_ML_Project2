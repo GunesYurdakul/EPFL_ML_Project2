{
 "cells": [
  {
   "cell_type": "markdown",
   "metadata": {},
   "source": [
    "# Stanford's Pretrained Glove Vectors and TweetTokenizer"
   ]
  },
  {
   "cell_type": "markdown",
   "metadata": {},
   "source": [
    "We will use TweetTokenizer and Stanford's Glove Model and Preprocess Code."
   ]
  },
  {
   "cell_type": "code",
   "execution_count": 179,
   "metadata": {},
   "outputs": [
    {
     "name": "stdout",
     "output_type": "stream",
     "text": [
      "Number of tweets: 1250000\n"
     ]
    }
   ],
   "source": [
    "with open('../data/preprocessed_p.txt') as f:\n",
    "    p_lines = f.readlines()\n",
    "    print(\"Number of tweets: {}\".format(len(p_lines)))"
   ]
  },
  {
   "cell_type": "code",
   "execution_count": 180,
   "metadata": {},
   "outputs": [
    {
     "name": "stdout",
     "output_type": "stream",
     "text": [
      "Number of tweets: 1250000\n"
     ]
    }
   ],
   "source": [
    "with open('../data/preprocessed_n.txt') as f:\n",
    "    n_lines = f.readlines()\n",
    "    print(\"Number of tweets: {}\".format(len(n_lines)))"
   ]
  },
  {
   "cell_type": "code",
   "execution_count": 181,
   "metadata": {},
   "outputs": [],
   "source": [
    "import nltk\n",
    "from tokenizer import tokenizer\n",
    "\n",
    "T = tokenizer.TweetTokenizer(preserve_handles=False, \n",
    "                             preserve_hashes=False, \n",
    "                             preserve_case=False, \n",
    "                             preserve_url=False,\n",
    "                             regularize=True)"
   ]
  },
  {
   "cell_type": "code",
   "execution_count": 182,
   "metadata": {
    "scrolled": true
   },
   "outputs": [
    {
     "name": "stdout",
     "output_type": "stream",
     "text": [
      "0 - completed\n",
      "10000 - completed\n",
      "20000 - completed\n",
      "30000 - completed\n",
      "40000 - completed\n",
      "50000 - completed\n",
      "60000 - completed\n",
      "70000 - completed\n",
      "80000 - completed\n",
      "90000 - completed\n",
      "100000 - completed\n",
      "110000 - completed\n",
      "120000 - completed\n",
      "130000 - completed\n",
      "140000 - completed\n",
      "150000 - completed\n",
      "160000 - completed\n",
      "170000 - completed\n",
      "180000 - completed\n",
      "190000 - completed\n",
      "200000 - completed\n",
      "210000 - completed\n",
      "220000 - completed\n",
      "230000 - completed\n",
      "240000 - completed\n",
      "250000 - completed\n",
      "260000 - completed\n",
      "270000 - completed\n",
      "280000 - completed\n",
      "290000 - completed\n",
      "300000 - completed\n",
      "310000 - completed\n",
      "320000 - completed\n",
      "330000 - completed\n",
      "340000 - completed\n",
      "350000 - completed\n",
      "360000 - completed\n",
      "370000 - completed\n",
      "380000 - completed\n",
      "390000 - completed\n",
      "400000 - completed\n",
      "410000 - completed\n",
      "420000 - completed\n",
      "430000 - completed\n",
      "440000 - completed\n",
      "450000 - completed\n",
      "460000 - completed\n",
      "470000 - completed\n",
      "480000 - completed\n",
      "490000 - completed\n",
      "500000 - completed\n",
      "510000 - completed\n",
      "520000 - completed\n",
      "530000 - completed\n",
      "540000 - completed\n",
      "550000 - completed\n",
      "560000 - completed\n",
      "570000 - completed\n",
      "580000 - completed\n",
      "590000 - completed\n",
      "600000 - completed\n",
      "610000 - completed\n",
      "620000 - completed\n",
      "630000 - completed\n",
      "640000 - completed\n",
      "650000 - completed\n",
      "660000 - completed\n",
      "670000 - completed\n",
      "680000 - completed\n",
      "690000 - completed\n",
      "700000 - completed\n",
      "710000 - completed\n",
      "720000 - completed\n",
      "730000 - completed\n",
      "740000 - completed\n",
      "750000 - completed\n",
      "760000 - completed\n",
      "770000 - completed\n",
      "780000 - completed\n",
      "790000 - completed\n",
      "800000 - completed\n",
      "810000 - completed\n",
      "820000 - completed\n",
      "830000 - completed\n",
      "840000 - completed\n",
      "850000 - completed\n",
      "860000 - completed\n",
      "870000 - completed\n",
      "880000 - completed\n",
      "890000 - completed\n",
      "900000 - completed\n",
      "910000 - completed\n",
      "920000 - completed\n",
      "930000 - completed\n",
      "940000 - completed\n",
      "950000 - completed\n",
      "960000 - completed\n",
      "970000 - completed\n",
      "980000 - completed\n",
      "990000 - completed\n",
      "1000000 - completed\n",
      "1010000 - completed\n",
      "1020000 - completed\n",
      "1030000 - completed\n",
      "1040000 - completed\n",
      "1050000 - completed\n",
      "1060000 - completed\n",
      "1070000 - completed\n",
      "1080000 - completed\n",
      "1090000 - completed\n",
      "1100000 - completed\n",
      "1110000 - completed\n",
      "1120000 - completed\n",
      "1130000 - completed\n",
      "1140000 - completed\n",
      "1150000 - completed\n",
      "1160000 - completed\n",
      "1170000 - completed\n",
      "1180000 - completed\n",
      "1190000 - completed\n",
      "1200000 - completed\n",
      "1210000 - completed\n",
      "1220000 - completed\n",
      "1230000 - completed\n",
      "1240000 - completed\n"
     ]
    }
   ],
   "source": [
    "for i in range(len(p_lines)):\n",
    "    p_lines[i] = p_lines[i].strip() # Remove newline\n",
    "    p_lines[i] = p_lines[i].replace('<user>', '') # Remove newline\n",
    "    p_lines[i] = p_lines[i].replace('<url>', '') # Remove newline\n",
    "    p_lines[i] = [x for x in T.tokenize(p_lines[i]) if x not in string.punctuation.replace('!', '')] # Remove punctuation\n",
    "    \n",
    "    if i % 10000 == 0:\n",
    "        print(\"{} - completed\".format(i))"
   ]
  },
  {
   "cell_type": "code",
   "execution_count": 183,
   "metadata": {
    "scrolled": true
   },
   "outputs": [
    {
     "name": "stdout",
     "output_type": "stream",
     "text": [
      "0 - completed\n",
      "10000 - completed\n",
      "20000 - completed\n",
      "30000 - completed\n",
      "40000 - completed\n",
      "50000 - completed\n",
      "60000 - completed\n",
      "70000 - completed\n",
      "80000 - completed\n",
      "90000 - completed\n",
      "100000 - completed\n",
      "110000 - completed\n",
      "120000 - completed\n",
      "130000 - completed\n",
      "140000 - completed\n",
      "150000 - completed\n",
      "160000 - completed\n",
      "170000 - completed\n",
      "180000 - completed\n",
      "190000 - completed\n",
      "200000 - completed\n",
      "210000 - completed\n",
      "220000 - completed\n",
      "230000 - completed\n",
      "240000 - completed\n",
      "250000 - completed\n",
      "260000 - completed\n",
      "270000 - completed\n",
      "280000 - completed\n",
      "290000 - completed\n",
      "300000 - completed\n",
      "310000 - completed\n",
      "320000 - completed\n",
      "330000 - completed\n",
      "340000 - completed\n",
      "350000 - completed\n",
      "360000 - completed\n",
      "370000 - completed\n",
      "380000 - completed\n",
      "390000 - completed\n",
      "400000 - completed\n",
      "410000 - completed\n",
      "420000 - completed\n",
      "430000 - completed\n",
      "440000 - completed\n",
      "450000 - completed\n",
      "460000 - completed\n",
      "470000 - completed\n",
      "480000 - completed\n",
      "490000 - completed\n",
      "500000 - completed\n",
      "510000 - completed\n",
      "520000 - completed\n",
      "530000 - completed\n",
      "540000 - completed\n",
      "550000 - completed\n",
      "560000 - completed\n",
      "570000 - completed\n",
      "580000 - completed\n",
      "590000 - completed\n",
      "600000 - completed\n",
      "610000 - completed\n",
      "620000 - completed\n",
      "630000 - completed\n",
      "640000 - completed\n",
      "650000 - completed\n",
      "660000 - completed\n",
      "670000 - completed\n",
      "680000 - completed\n",
      "690000 - completed\n",
      "700000 - completed\n",
      "710000 - completed\n",
      "720000 - completed\n",
      "730000 - completed\n",
      "740000 - completed\n",
      "750000 - completed\n",
      "760000 - completed\n",
      "770000 - completed\n",
      "780000 - completed\n",
      "790000 - completed\n",
      "800000 - completed\n",
      "810000 - completed\n",
      "820000 - completed\n",
      "830000 - completed\n",
      "840000 - completed\n",
      "850000 - completed\n",
      "860000 - completed\n",
      "870000 - completed\n",
      "880000 - completed\n",
      "890000 - completed\n",
      "900000 - completed\n",
      "910000 - completed\n",
      "920000 - completed\n",
      "930000 - completed\n",
      "940000 - completed\n",
      "950000 - completed\n",
      "960000 - completed\n",
      "970000 - completed\n",
      "980000 - completed\n",
      "990000 - completed\n",
      "1000000 - completed\n",
      "1010000 - completed\n",
      "1020000 - completed\n",
      "1030000 - completed\n",
      "1040000 - completed\n",
      "1050000 - completed\n",
      "1060000 - completed\n",
      "1070000 - completed\n",
      "1080000 - completed\n",
      "1090000 - completed\n",
      "1100000 - completed\n",
      "1110000 - completed\n",
      "1120000 - completed\n",
      "1130000 - completed\n",
      "1140000 - completed\n",
      "1150000 - completed\n",
      "1160000 - completed\n",
      "1170000 - completed\n",
      "1180000 - completed\n",
      "1190000 - completed\n",
      "1200000 - completed\n",
      "1210000 - completed\n",
      "1220000 - completed\n",
      "1230000 - completed\n",
      "1240000 - completed\n"
     ]
    }
   ],
   "source": [
    "for i in range(len(n_lines)):\n",
    "    n_lines[i] = n_lines[i].strip() # Remove newline\n",
    "    n_lines[i] = n_lines[i].replace('<user>', '') # Remove newline\n",
    "    n_lines[i] = n_lines[i].replace('<url>', '') # Remove newline\n",
    "    n_lines[i] = [x for x in T.tokenize(n_lines[i]) if x not in string.punctuation.replace('!', '')]\n",
    "    \n",
    "    if i % 10000 == 0:\n",
    "        print(\"{} - completed\".format(i))"
   ]
  },
  {
   "cell_type": "code",
   "execution_count": 193,
   "metadata": {},
   "outputs": [
    {
     "name": "stdout",
     "output_type": "stream",
     "text": [
      "[==================================================] 100.0% 758.5/758.5MB downloaded\n"
     ]
    }
   ],
   "source": [
    "import gensim.downloader as api\n",
    "\n",
    "info = api.info()  # show info about available models/datasets\n",
    "model = api.load(\"glove-twitter-200\")  # download the model and return as object ready for use"
   ]
  },
  {
   "cell_type": "code",
   "execution_count": 197,
   "metadata": {},
   "outputs": [
    {
     "data": {
      "text/plain": [
       "1193514"
      ]
     },
     "execution_count": 197,
     "metadata": {},
     "output_type": "execute_result"
    }
   ],
   "source": [
    "len(model.vocab)"
   ]
  },
  {
   "cell_type": "code",
   "execution_count": 194,
   "metadata": {},
   "outputs": [],
   "source": [
    "import pickle\n",
    "with open('glove_twitter_200', 'wb') as file:\n",
    "    pickle.dump(model, file)"
   ]
  },
  {
   "cell_type": "code",
   "execution_count": 191,
   "metadata": {},
   "outputs": [],
   "source": [
    "np.save('positive_tweets', np.array(p_lines))\n",
    "np.save('negative_tweets', np.array(n_lines))"
   ]
  },
  {
   "cell_type": "code",
   "execution_count": 199,
   "metadata": {},
   "outputs": [
    {
     "name": "stdout",
     "output_type": "stream",
     "text": [
      "Number of tweets: 10000\n"
     ]
    }
   ],
   "source": [
    "with open('../data/preprocessed_test.txt') as f:\n",
    "    test_lines = f.readlines()\n",
    "    print(\"Number of tweets: {}\".format(len(test_lines)))"
   ]
  },
  {
   "cell_type": "code",
   "execution_count": 200,
   "metadata": {},
   "outputs": [
    {
     "name": "stdout",
     "output_type": "stream",
     "text": [
      "0 - completed\n"
     ]
    }
   ],
   "source": [
    "for i in range(len(test_lines)):\n",
    "    id = test_lines[i].split(',', 1)[0]\n",
    "    test_lines[i] = test_lines[i].replace(id + ',', '')\n",
    "    test_lines[i] = test_lines[i].strip() # Remove newline\n",
    "    test_lines[i] = test_lines[i].replace('<user>', '') # Remove newline\n",
    "    test_lines[i] = test_lines[i].replace('<url>', '') # Remove newline\n",
    "    test_lines[i] = [x for x in T.tokenize(test_lines[i]) if x not in string.punctuation.replace('!', '')] # Remove punctuation\n",
    "    \n",
    "    if i % 10000 == 0:\n",
    "        print(\"{} - completed\".format(i))"
   ]
  },
  {
   "cell_type": "code",
   "execution_count": 205,
   "metadata": {},
   "outputs": [],
   "source": [
    "ts = np.load('test_tweets.npy')"
   ]
  },
  {
   "cell_type": "code",
   "execution_count": 208,
   "metadata": {},
   "outputs": [
    {
     "data": {
      "text/plain": [
       "['sea',\n",
       " 'doo',\n",
       " 'pro',\n",
       " 'sea',\n",
       " 'scooter',\n",
       " 'sports',\n",
       " 'with',\n",
       " 'the',\n",
       " 'portable',\n",
       " 'sea-doo',\n",
       " 'seascootersave',\n",
       " 'air',\n",
       " 'stay',\n",
       " 'longer',\n",
       " 'in',\n",
       " 'the',\n",
       " 'water',\n",
       " 'and']"
      ]
     },
     "execution_count": 208,
     "metadata": {},
     "output_type": "execute_result"
    }
   ],
   "source": [
    "ts[0]"
   ]
  }
 ],
 "metadata": {
  "kernelspec": {
   "display_name": "Python 3",
   "language": "python",
   "name": "python3"
  },
  "language_info": {
   "codemirror_mode": {
    "name": "ipython",
    "version": 3
   },
   "file_extension": ".py",
   "mimetype": "text/x-python",
   "name": "python",
   "nbconvert_exporter": "python",
   "pygments_lexer": "ipython3",
   "version": "3.6.4"
  }
 },
 "nbformat": 4,
 "nbformat_minor": 2
}
