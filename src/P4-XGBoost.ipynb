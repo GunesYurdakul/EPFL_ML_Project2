{
 "cells": [
  {
   "cell_type": "markdown",
   "metadata": {},
   "source": [
    "# XGBoost "
   ]
  },
  {
   "cell_type": "code",
   "execution_count": 1,
   "metadata": {},
   "outputs": [
    {
     "name": "stderr",
     "output_type": "stream",
     "text": [
      "/Users/canaltinigne/anaconda3/lib/python3.6/site-packages/sklearn/ensemble/weight_boosting.py:29: DeprecationWarning: numpy.core.umath_tests is an internal NumPy module and should not be imported. It will be removed in a future NumPy release.\n",
      "  from numpy.core.umath_tests import inner1d\n"
     ]
    }
   ],
   "source": [
    "from xgboost import XGBClassifier\n",
    "import numpy as np\n",
    "from sklearn.ensemble import GradientBoostingClassifier\n",
    "from sklearn.model_selection import train_test_split\n",
    "from create_submission import create_csv_submission"
   ]
  },
  {
   "cell_type": "code",
   "execution_count": 2,
   "metadata": {},
   "outputs": [
    {
     "name": "stdout",
     "output_type": "stream",
     "text": [
      "(2499130, 80)\n"
     ]
    }
   ],
   "source": [
    "X_train = np.load('X_train.npy')\n",
    "y_train = np.load('y_train.npy')\n",
    "print(X_train.shape)"
   ]
  },
  {
   "cell_type": "code",
   "execution_count": 3,
   "metadata": {},
   "outputs": [],
   "source": [
    "from sklearn.preprocessing import StandardScaler\n",
    "\n",
    "scaler = StandardScaler()\n",
    "X_train = scaler.fit_transform(X_train)"
   ]
  },
  {
   "cell_type": "code",
   "execution_count": 4,
   "metadata": {},
   "outputs": [],
   "source": [
    "X_train, X_valid, y_train, y_valid = train_test_split(X_train, y_train, test_size=0.2, random_state=23)"
   ]
  },
  {
   "cell_type": "code",
   "execution_count": 5,
   "metadata": {},
   "outputs": [
    {
     "name": "stdout",
     "output_type": "stream",
     "text": [
      "(1999304, 80)\n"
     ]
    }
   ],
   "source": [
    "print(X_train.shape)\n",
    "#print(X_valid.shape)"
   ]
  },
  {
   "cell_type": "code",
   "execution_count": null,
   "metadata": {},
   "outputs": [],
   "source": [
    "#np.random.seed(23)\n",
    "#gb = GradientBoostingClassifier(random_state = 23).fit(X_train, y_train)"
   ]
  },
  {
   "cell_type": "markdown",
   "metadata": {},
   "source": [
    "## Model:\n",
    "\n",
    "- max_depth = 8, estimators = 50, learning_rate=0.1 > Test set: 0.771,  Validation set (0.2%), 0.772 accuracy\n",
    "- max_depth = 16, estimators = 50, learning_rate=0.1 > Test set: 0.791,  Validation set (0.2%), 0.801 accuracy"
   ]
  },
  {
   "cell_type": "code",
   "execution_count": 6,
   "metadata": {},
   "outputs": [
    {
     "name": "stdout",
     "output_type": "stream",
     "text": [
      "[11:04:38] src/tree/updater_prune.cc:74: tree pruning end, 1 roots, 43040 extra nodes, 0 pruned nodes, max_depth=16\n",
      "[11:06:52] src/tree/updater_prune.cc:74: tree pruning end, 1 roots, 41172 extra nodes, 0 pruned nodes, max_depth=16\n",
      "[11:09:10] src/tree/updater_prune.cc:74: tree pruning end, 1 roots, 41296 extra nodes, 0 pruned nodes, max_depth=16\n",
      "[11:11:30] src/tree/updater_prune.cc:74: tree pruning end, 1 roots, 42152 extra nodes, 0 pruned nodes, max_depth=16\n",
      "[11:13:50] src/tree/updater_prune.cc:74: tree pruning end, 1 roots, 43540 extra nodes, 0 pruned nodes, max_depth=16\n",
      "[11:16:14] src/tree/updater_prune.cc:74: tree pruning end, 1 roots, 38514 extra nodes, 0 pruned nodes, max_depth=16\n",
      "[11:18:26] src/tree/updater_prune.cc:74: tree pruning end, 1 roots, 39912 extra nodes, 0 pruned nodes, max_depth=16\n",
      "[11:20:49] src/tree/updater_prune.cc:74: tree pruning end, 1 roots, 42796 extra nodes, 0 pruned nodes, max_depth=16\n",
      "[11:23:23] src/tree/updater_prune.cc:74: tree pruning end, 1 roots, 42116 extra nodes, 0 pruned nodes, max_depth=16\n",
      "[11:25:45] src/tree/updater_prune.cc:74: tree pruning end, 1 roots, 38402 extra nodes, 0 pruned nodes, max_depth=16\n",
      "[11:28:34] src/tree/updater_prune.cc:74: tree pruning end, 1 roots, 42022 extra nodes, 0 pruned nodes, max_depth=16\n",
      "[11:31:19] src/tree/updater_prune.cc:74: tree pruning end, 1 roots, 34602 extra nodes, 0 pruned nodes, max_depth=16\n",
      "[11:34:12] src/tree/updater_prune.cc:74: tree pruning end, 1 roots, 40048 extra nodes, 0 pruned nodes, max_depth=16\n",
      "[11:36:50] src/tree/updater_prune.cc:74: tree pruning end, 1 roots, 37152 extra nodes, 0 pruned nodes, max_depth=16\n",
      "[11:39:28] src/tree/updater_prune.cc:74: tree pruning end, 1 roots, 37514 extra nodes, 0 pruned nodes, max_depth=16\n",
      "[11:42:04] src/tree/updater_prune.cc:74: tree pruning end, 1 roots, 37060 extra nodes, 0 pruned nodes, max_depth=16\n",
      "[11:44:42] src/tree/updater_prune.cc:74: tree pruning end, 1 roots, 34116 extra nodes, 0 pruned nodes, max_depth=16\n",
      "[11:47:13] src/tree/updater_prune.cc:74: tree pruning end, 1 roots, 32724 extra nodes, 0 pruned nodes, max_depth=16\n",
      "[11:49:44] src/tree/updater_prune.cc:74: tree pruning end, 1 roots, 35056 extra nodes, 0 pruned nodes, max_depth=16\n",
      "[11:52:13] src/tree/updater_prune.cc:74: tree pruning end, 1 roots, 32588 extra nodes, 0 pruned nodes, max_depth=16\n",
      "[11:54:24] src/tree/updater_prune.cc:74: tree pruning end, 1 roots, 31304 extra nodes, 0 pruned nodes, max_depth=16\n",
      "[11:56:51] src/tree/updater_prune.cc:74: tree pruning end, 1 roots, 34668 extra nodes, 0 pruned nodes, max_depth=16\n",
      "[11:59:24] src/tree/updater_prune.cc:74: tree pruning end, 1 roots, 27508 extra nodes, 0 pruned nodes, max_depth=16\n",
      "[12:02:06] src/tree/updater_prune.cc:74: tree pruning end, 1 roots, 30132 extra nodes, 0 pruned nodes, max_depth=16\n",
      "[12:04:49] src/tree/updater_prune.cc:74: tree pruning end, 1 roots, 26236 extra nodes, 0 pruned nodes, max_depth=16\n",
      "[12:07:15] src/tree/updater_prune.cc:74: tree pruning end, 1 roots, 27578 extra nodes, 0 pruned nodes, max_depth=16\n",
      "[12:09:43] src/tree/updater_prune.cc:74: tree pruning end, 1 roots, 26600 extra nodes, 0 pruned nodes, max_depth=16\n",
      "[12:12:13] src/tree/updater_prune.cc:74: tree pruning end, 1 roots, 29870 extra nodes, 0 pruned nodes, max_depth=16\n",
      "[12:14:44] src/tree/updater_prune.cc:74: tree pruning end, 1 roots, 28246 extra nodes, 0 pruned nodes, max_depth=16\n",
      "[12:17:13] src/tree/updater_prune.cc:74: tree pruning end, 1 roots, 29488 extra nodes, 0 pruned nodes, max_depth=16\n",
      "[12:19:24] src/tree/updater_prune.cc:74: tree pruning end, 1 roots, 24102 extra nodes, 0 pruned nodes, max_depth=16\n",
      "[12:21:34] src/tree/updater_prune.cc:74: tree pruning end, 1 roots, 27634 extra nodes, 0 pruned nodes, max_depth=16\n",
      "[12:23:44] src/tree/updater_prune.cc:74: tree pruning end, 1 roots, 27220 extra nodes, 0 pruned nodes, max_depth=16\n",
      "[12:25:55] src/tree/updater_prune.cc:74: tree pruning end, 1 roots, 28532 extra nodes, 0 pruned nodes, max_depth=16\n",
      "[12:28:07] src/tree/updater_prune.cc:74: tree pruning end, 1 roots, 29950 extra nodes, 0 pruned nodes, max_depth=16\n",
      "[12:30:16] src/tree/updater_prune.cc:74: tree pruning end, 1 roots, 22908 extra nodes, 0 pruned nodes, max_depth=16\n",
      "[12:32:26] src/tree/updater_prune.cc:74: tree pruning end, 1 roots, 24440 extra nodes, 0 pruned nodes, max_depth=16\n",
      "[12:34:36] src/tree/updater_prune.cc:74: tree pruning end, 1 roots, 28034 extra nodes, 0 pruned nodes, max_depth=16\n",
      "[12:36:46] src/tree/updater_prune.cc:74: tree pruning end, 1 roots, 29476 extra nodes, 0 pruned nodes, max_depth=16\n",
      "[12:39:10] src/tree/updater_prune.cc:74: tree pruning end, 1 roots, 26916 extra nodes, 0 pruned nodes, max_depth=16\n",
      "[12:41:38] src/tree/updater_prune.cc:74: tree pruning end, 1 roots, 23310 extra nodes, 0 pruned nodes, max_depth=16\n",
      "[12:44:13] src/tree/updater_prune.cc:74: tree pruning end, 1 roots, 21296 extra nodes, 0 pruned nodes, max_depth=16\n",
      "[12:46:46] src/tree/updater_prune.cc:74: tree pruning end, 1 roots, 23976 extra nodes, 0 pruned nodes, max_depth=16\n",
      "[12:49:00] src/tree/updater_prune.cc:74: tree pruning end, 1 roots, 29688 extra nodes, 0 pruned nodes, max_depth=16\n",
      "[12:51:15] src/tree/updater_prune.cc:74: tree pruning end, 1 roots, 25750 extra nodes, 0 pruned nodes, max_depth=16\n",
      "[12:53:28] src/tree/updater_prune.cc:74: tree pruning end, 1 roots, 25112 extra nodes, 0 pruned nodes, max_depth=16\n",
      "[12:56:19] src/tree/updater_prune.cc:74: tree pruning end, 1 roots, 31000 extra nodes, 0 pruned nodes, max_depth=16\n",
      "[12:59:00] src/tree/updater_prune.cc:74: tree pruning end, 1 roots, 26652 extra nodes, 0 pruned nodes, max_depth=16\n",
      "[13:01:53] src/tree/updater_prune.cc:74: tree pruning end, 1 roots, 20438 extra nodes, 0 pruned nodes, max_depth=16\n",
      "[13:04:18] src/tree/updater_prune.cc:74: tree pruning end, 1 roots, 21174 extra nodes, 0 pruned nodes, max_depth=16\n",
      "\n",
      "Validation accuracy=0.8011447983898397\n"
     ]
    },
    {
     "name": "stderr",
     "output_type": "stream",
     "text": [
      "/Users/canaltinigne/anaconda3/lib/python3.6/site-packages/sklearn/preprocessing/label.py:151: DeprecationWarning: The truth value of an empty array is ambiguous. Returning False, but in future this will result in an error. Use `array.size > 0` to check that an array is not empty.\n",
      "  if diff:\n"
     ]
    }
   ],
   "source": [
    "from sklearn.model_selection import cross_val_score\n",
    "\n",
    "model = XGBClassifier(max_depth=16,learning_rate=0.1,\n",
    "                      n_estimators=50,n_jobs=-1,random_state=23,\n",
    "                      silent=False).fit(X_train, y_train)\n",
    "\n",
    "print(\"\\nValidation accuracy={}\".format(model.score(X_valid, y_valid)))"
   ]
  },
  {
   "cell_type": "markdown",
   "metadata": {},
   "source": [
    "***"
   ]
  },
  {
   "cell_type": "code",
   "execution_count": null,
   "metadata": {},
   "outputs": [],
   "source": [
    "deleted_substr = ['#', '<user>', '<url>']\n",
    "dataset.create_train_test('../data/test_data.txt', '', delete_substr=deleted_substr, training=False)"
   ]
  },
  {
   "cell_type": "code",
   "execution_count": 7,
   "metadata": {},
   "outputs": [],
   "source": [
    "X_test = np.load('X_test.npy')\n",
    "X_test = scaler.transform(X_test)"
   ]
  },
  {
   "cell_type": "code",
   "execution_count": 8,
   "metadata": {},
   "outputs": [
    {
     "name": "stderr",
     "output_type": "stream",
     "text": [
      "/Users/canaltinigne/anaconda3/lib/python3.6/site-packages/sklearn/preprocessing/label.py:151: DeprecationWarning: The truth value of an empty array is ambiguous. Returning False, but in future this will result in an error. Use `array.size > 0` to check that an array is not empty.\n",
      "  if diff:\n"
     ]
    }
   ],
   "source": [
    "predictions = model.predict(X_test)"
   ]
  },
  {
   "cell_type": "code",
   "execution_count": 9,
   "metadata": {},
   "outputs": [],
   "source": [
    "predictions[predictions == 0] = -1"
   ]
  },
  {
   "cell_type": "code",
   "execution_count": 10,
   "metadata": {},
   "outputs": [],
   "source": [
    "create_csv_submission(range(1,10001), predictions, 'output.csv')"
   ]
  }
 ],
 "metadata": {
  "kernelspec": {
   "display_name": "Python 3",
   "language": "python",
   "name": "python3"
  },
  "language_info": {
   "codemirror_mode": {
    "name": "ipython",
    "version": 3
   },
   "file_extension": ".py",
   "mimetype": "text/x-python",
   "name": "python",
   "nbconvert_exporter": "python",
   "pygments_lexer": "ipython3",
   "version": "3.6.4"
  }
 },
 "nbformat": 4,
 "nbformat_minor": 2
}
