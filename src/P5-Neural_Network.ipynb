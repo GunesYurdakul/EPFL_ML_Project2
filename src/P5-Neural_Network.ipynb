{
 "cells": [
  {
   "cell_type": "markdown",
   "metadata": {},
   "source": [
    "# Feed-Forward Neural Network"
   ]
  },
  {
   "cell_type": "code",
   "execution_count": 81,
   "metadata": {},
   "outputs": [],
   "source": [
    "%matplotlib inline\n",
    "import numpy as np\n",
    "from sklearn.model_selection import train_test_split\n",
    "from create_submission import create_csv_submission\n",
    "from sklearn.preprocessing import StandardScaler\n",
    "from sklearn.preprocessing import MinMaxScaler\n",
    "\n",
    "\n",
    "import keras\n",
    "import matplotlib.pyplot as plt"
   ]
  },
  {
   "cell_type": "code",
   "execution_count": 6,
   "metadata": {},
   "outputs": [
    {
     "name": "stdout",
     "output_type": "stream",
     "text": [
      "(2499130, 80)\n"
     ]
    }
   ],
   "source": [
    "X_train = np.load('X_train.npy')\n",
    "y_train = np.load('y_train.npy')\n",
    "print(X_train.shape)"
   ]
  },
  {
   "cell_type": "code",
   "execution_count": 7,
   "metadata": {},
   "outputs": [],
   "source": [
    "scaler = StandardScaler()\n",
    "X_train = scaler.fit_transform(X_train)"
   ]
  },
  {
   "cell_type": "code",
   "execution_count": 8,
   "metadata": {},
   "outputs": [],
   "source": [
    "X_train, X_valid, y_train, y_valid = train_test_split(X_train, y_train, test_size=0.2, random_state=23)"
   ]
  },
  {
   "cell_type": "code",
   "execution_count": 9,
   "metadata": {},
   "outputs": [
    {
     "name": "stdout",
     "output_type": "stream",
     "text": [
      "(1999304, 80)\n",
      "(499826, 80)\n"
     ]
    }
   ],
   "source": [
    "print(X_train.shape)\n",
    "print(X_valid.shape)"
   ]
  },
  {
   "cell_type": "code",
   "execution_count": 72,
   "metadata": {},
   "outputs": [],
   "source": [
    "from keras.models import Sequential\n",
    "from keras.layers import Dense\n",
    "from keras.layers import BatchNormalization\n",
    "from keras.layers import Activation"
   ]
  },
  {
   "cell_type": "code",
   "execution_count": 126,
   "metadata": {},
   "outputs": [],
   "source": [
    "np.random.seed(23)"
   ]
  },
  {
   "cell_type": "code",
   "execution_count": 127,
   "metadata": {},
   "outputs": [],
   "source": [
    "model = Sequential()\n",
    "model.add(Dense(128, input_dim=80, activation='relu'))\n",
    "model.add(Dense(64, activation='relu'))\n",
    "model.add(Dense(1, activation='sigmoid'))"
   ]
  },
  {
   "cell_type": "code",
   "execution_count": 128,
   "metadata": {},
   "outputs": [],
   "source": [
    "model.compile(loss='binary_crossentropy', optimizer='adam', metrics=['accuracy'])"
   ]
  },
  {
   "cell_type": "code",
   "execution_count": 129,
   "metadata": {},
   "outputs": [
    {
     "name": "stdout",
     "output_type": "stream",
     "text": [
      "Epoch 1/15\n",
      "1999304/1999304 [==============================] - 42s 21us/step - loss: 0.4071 - acc: 0.8039\n",
      "Epoch 2/15\n",
      "1999304/1999304 [==============================] - 41s 21us/step - loss: 0.3880 - acc: 0.8153\n",
      "Epoch 3/15\n",
      "1999304/1999304 [==============================] - 41s 21us/step - loss: 0.3820 - acc: 0.8186\n",
      "Epoch 4/15\n",
      "1999304/1999304 [==============================] - 42s 21us/step - loss: 0.3785 - acc: 0.8206\n",
      "Epoch 5/15\n",
      "1999304/1999304 [==============================] - 42s 21us/step - loss: 0.3760 - acc: 0.8221\n",
      "Epoch 6/15\n",
      "1999304/1999304 [==============================] - 42s 21us/step - loss: 0.3740 - acc: 0.8233\n",
      "Epoch 7/15\n",
      "1999304/1999304 [==============================] - 42s 21us/step - loss: 0.3725 - acc: 0.8242\n",
      "Epoch 8/15\n",
      "1999304/1999304 [==============================] - 42s 21us/step - loss: 0.3713 - acc: 0.8248\n",
      "Epoch 9/15\n",
      "1999304/1999304 [==============================] - 42s 21us/step - loss: 0.3702 - acc: 0.8254\n",
      "Epoch 10/15\n",
      "1999304/1999304 [==============================] - 43s 21us/step - loss: 0.3694 - acc: 0.8259\n",
      "Epoch 11/15\n",
      "1999304/1999304 [==============================] - 43s 22us/step - loss: 0.3685 - acc: 0.8264\n",
      "Epoch 12/15\n",
      "1999304/1999304 [==============================] - 42s 21us/step - loss: 0.3679 - acc: 0.8267\n",
      "Epoch 13/15\n",
      "1999304/1999304 [==============================] - 42s 21us/step - loss: 0.3673 - acc: 0.8271\n",
      "Epoch 14/15\n",
      "1999304/1999304 [==============================] - 43s 21us/step - loss: 0.3668 - acc: 0.8273\n",
      "Epoch 15/15\n",
      "1999304/1999304 [==============================] - 43s 22us/step - loss: 0.3662 - acc: 0.8274\n"
     ]
    },
    {
     "data": {
      "text/plain": [
       "<keras.callbacks.History at 0x1a8dac09e8>"
      ]
     },
     "execution_count": 129,
     "metadata": {},
     "output_type": "execute_result"
    }
   ],
   "source": [
    "model.fit(X_train, y_train, epochs=15, batch_size=128)"
   ]
  },
  {
   "cell_type": "code",
   "execution_count": 130,
   "metadata": {},
   "outputs": [
    {
     "data": {
      "text/plain": [
       "[<matplotlib.lines.Line2D at 0x112c889e8>]"
      ]
     },
     "execution_count": 130,
     "metadata": {},
     "output_type": "execute_result"
    },
    {
     "data": {
      "image/png": "[encoded data removed]",
      "text/plain": [
       "<matplotlib.figure.Figure at 0x112c5f630>"
      ]
     },
     "metadata": {},
     "output_type": "display_data"
    }
   ],
   "source": [
    "plt.plot(model.history.epoch, model.history.history['loss'])"
   ]
  },
  {
   "cell_type": "code",
   "execution_count": 131,
   "metadata": {},
   "outputs": [
    {
     "data": {
      "text/plain": [
       "[<matplotlib.lines.Line2D at 0x112c15a58>]"
      ]
     },
     "execution_count": 131,
     "metadata": {},
     "output_type": "execute_result"
    },
    {
     "data": {
      "image/png": "[encoded data removed]",
      "text/plain": [
       "<matplotlib.figure.Figure at 0x112c6e828>"
      ]
     },
     "metadata": {},
     "output_type": "display_data"
    }
   ],
   "source": [
    "plt.plot(model.history.epoch, model.history.history['acc'])"
   ]
  },
  {
   "cell_type": "code",
   "execution_count": 132,
   "metadata": {},
   "outputs": [
    {
     "name": "stdout",
     "output_type": "stream",
     "text": [
      "499826/499826 [==============================] - 14s 28us/step\n"
     ]
    },
    {
     "data": {
      "text/plain": [
       "[0.37662492663271996, 0.8217699759509156]"
      ]
     },
     "execution_count": 132,
     "metadata": {},
     "output_type": "execute_result"
    }
   ],
   "source": [
    "model.evaluate(X_valid, y_valid)"
   ]
  },
  {
   "cell_type": "markdown",
   "metadata": {},
   "source": [
    "***"
   ]
  },
  {
   "cell_type": "markdown",
   "metadata": {},
   "source": [
    "# Word2Vec size = 100"
   ]
  },
  {
   "cell_type": "code",
   "execution_count": 2,
   "metadata": {},
   "outputs": [],
   "source": [
    "from Word2VecModel import Word2VecModel"
   ]
  },
  {
   "cell_type": "code",
   "execution_count": 31,
   "metadata": {},
   "outputs": [],
   "source": [
    "model_100 = Word2VecModel(128,5)\n",
    "model_100.load_dataset('dataset.pkl')"
   ]
  },
  {
   "cell_type": "code",
   "execution_count": 32,
   "metadata": {},
   "outputs": [
    {
     "name": "stdout",
     "output_type": "stream",
     "text": [
      "Training starts\n",
      "Training ends\n",
      "Word2Vec Model saved\n"
     ]
    }
   ],
   "source": [
    "model_100.train()"
   ]
  },
  {
   "cell_type": "code",
   "execution_count": 33,
   "metadata": {},
   "outputs": [],
   "source": [
    "from Dataset import DataSet"
   ]
  },
  {
   "cell_type": "code",
   "execution_count": 34,
   "metadata": {},
   "outputs": [],
   "source": [
    "dataset = DataSet(model_100)"
   ]
  },
  {
   "cell_type": "code",
   "execution_count": 35,
   "metadata": {},
   "outputs": [
    {
     "name": "stdout",
     "output_type": "stream",
     "text": [
      "Total lines (label = 1): 1250000\n",
      "10000 lines processed\n",
      "20000 lines processed\n",
      "30000 lines processed\n",
      "40000 lines processed\n",
      "50000 lines processed\n",
      "60000 lines processed\n",
      "70000 lines processed\n",
      "80000 lines processed\n",
      "90000 lines processed\n",
      "100000 lines processed\n",
      "110000 lines processed\n",
      "120000 lines processed\n",
      "130000 lines processed\n",
      "140000 lines processed\n",
      "150000 lines processed\n",
      "160000 lines processed\n",
      "170000 lines processed\n",
      "180000 lines processed\n",
      "190000 lines processed\n",
      "200000 lines processed\n",
      "210000 lines processed\n",
      "220000 lines processed\n",
      "230000 lines processed\n",
      "240000 lines processed\n",
      "250000 lines processed\n",
      "260000 lines processed\n",
      "270000 lines processed\n",
      "280000 lines processed\n",
      "290000 lines processed\n",
      "300000 lines processed\n",
      "310000 lines processed\n",
      "320000 lines processed\n",
      "330000 lines processed\n",
      "340000 lines processed\n",
      "350000 lines processed\n",
      "360000 lines processed\n",
      "370000 lines processed\n",
      "380000 lines processed\n",
      "390000 lines processed\n",
      "400000 lines processed\n",
      "410000 lines processed\n",
      "420000 lines processed\n",
      "430000 lines processed\n",
      "440000 lines processed\n",
      "450000 lines processed\n",
      "460000 lines processed\n",
      "470000 lines processed\n",
      "480000 lines processed\n",
      "490000 lines processed\n",
      "500000 lines processed\n",
      "510000 lines processed\n",
      "520000 lines processed\n",
      "530000 lines processed\n",
      "540000 lines processed\n",
      "550000 lines processed\n",
      "560000 lines processed\n",
      "570000 lines processed\n",
      "580000 lines processed\n",
      "590000 lines processed\n",
      "600000 lines processed\n",
      "610000 lines processed\n",
      "620000 lines processed\n",
      "630000 lines processed\n",
      "640000 lines processed\n",
      "650000 lines processed\n",
      "660000 lines processed\n",
      "670000 lines processed\n",
      "680000 lines processed\n",
      "690000 lines processed\n",
      "700000 lines processed\n",
      "710000 lines processed\n",
      "720000 lines processed\n",
      "730000 lines processed\n",
      "740000 lines processed\n",
      "750000 lines processed\n",
      "760000 lines processed\n",
      "770000 lines processed\n",
      "780000 lines processed\n",
      "790000 lines processed\n",
      "800000 lines processed\n",
      "810000 lines processed\n",
      "820000 lines processed\n",
      "830000 lines processed\n",
      "840000 lines processed\n",
      "850000 lines processed\n",
      "860000 lines processed\n",
      "870000 lines processed\n",
      "880000 lines processed\n",
      "890000 lines processed\n",
      "900000 lines processed\n",
      "910000 lines processed\n",
      "920000 lines processed\n",
      "930000 lines processed\n",
      "940000 lines processed\n",
      "950000 lines processed\n",
      "960000 lines processed\n",
      "970000 lines processed\n",
      "980000 lines processed\n",
      "990000 lines processed\n",
      "1000000 lines processed\n",
      "1010000 lines processed\n",
      "1020000 lines processed\n",
      "1030000 lines processed\n",
      "1040000 lines processed\n",
      "1050000 lines processed\n",
      "1060000 lines processed\n",
      "1070000 lines processed\n",
      "1080000 lines processed\n",
      "1090000 lines processed\n",
      "1100000 lines processed\n",
      "1110000 lines processed\n",
      "1120000 lines processed\n",
      "1130000 lines processed\n",
      "1140000 lines processed\n",
      "1150000 lines processed\n",
      "1160000 lines processed\n",
      "1170000 lines processed\n",
      "1180000 lines processed\n",
      "1190000 lines processed\n",
      "1200000 lines processed\n",
      "1210000 lines processed\n",
      "1220000 lines processed\n",
      "1230000 lines processed\n",
      "1240000 lines processed\n",
      "1250000 lines processed\n",
      "Set completed.\n",
      "Total lines (label = 0): 1250000\n",
      "10000 lines processed\n",
      "20000 lines processed\n",
      "30000 lines processed\n",
      "40000 lines processed\n",
      "50000 lines processed\n",
      "60000 lines processed\n",
      "70000 lines processed\n",
      "80000 lines processed\n",
      "90000 lines processed\n",
      "100000 lines processed\n",
      "110000 lines processed\n",
      "120000 lines processed\n",
      "130000 lines processed\n",
      "140000 lines processed\n",
      "150000 lines processed\n",
      "160000 lines processed\n",
      "170000 lines processed\n",
      "180000 lines processed\n",
      "190000 lines processed\n",
      "200000 lines processed\n",
      "210000 lines processed\n",
      "220000 lines processed\n",
      "230000 lines processed\n",
      "240000 lines processed\n",
      "250000 lines processed\n",
      "260000 lines processed\n",
      "270000 lines processed\n",
      "280000 lines processed\n",
      "290000 lines processed\n",
      "300000 lines processed\n",
      "310000 lines processed\n",
      "320000 lines processed\n",
      "330000 lines processed\n",
      "340000 lines processed\n",
      "350000 lines processed\n",
      "360000 lines processed\n",
      "370000 lines processed\n",
      "380000 lines processed\n",
      "390000 lines processed\n",
      "400000 lines processed\n",
      "410000 lines processed\n",
      "420000 lines processed\n",
      "430000 lines processed\n",
      "440000 lines processed\n",
      "450000 lines processed\n",
      "460000 lines processed\n",
      "470000 lines processed\n",
      "480000 lines processed\n",
      "490000 lines processed\n",
      "500000 lines processed\n",
      "510000 lines processed\n",
      "520000 lines processed\n",
      "530000 lines processed\n",
      "540000 lines processed\n",
      "550000 lines processed\n",
      "560000 lines processed\n",
      "570000 lines processed\n",
      "580000 lines processed\n",
      "590000 lines processed\n",
      "600000 lines processed\n",
      "610000 lines processed\n",
      "620000 lines processed\n",
      "630000 lines processed\n",
      "640000 lines processed\n",
      "650000 lines processed\n",
      "660000 lines processed\n",
      "670000 lines processed\n",
      "680000 lines processed\n",
      "690000 lines processed\n",
      "700000 lines processed\n",
      "710000 lines processed\n",
      "720000 lines processed\n",
      "730000 lines processed\n",
      "740000 lines processed\n",
      "750000 lines processed\n",
      "760000 lines processed\n",
      "770000 lines processed\n",
      "780000 lines processed\n",
      "790000 lines processed\n",
      "800000 lines processed\n",
      "810000 lines processed\n",
      "820000 lines processed\n",
      "830000 lines processed\n",
      "840000 lines processed\n",
      "850000 lines processed\n",
      "860000 lines processed\n",
      "870000 lines processed\n",
      "880000 lines processed\n",
      "890000 lines processed\n",
      "900000 lines processed\n",
      "910000 lines processed\n",
      "920000 lines processed\n",
      "930000 lines processed\n",
      "940000 lines processed\n",
      "950000 lines processed\n",
      "960000 lines processed\n",
      "970000 lines processed\n",
      "980000 lines processed\n",
      "990000 lines processed\n",
      "1000000 lines processed\n",
      "1010000 lines processed\n",
      "1020000 lines processed\n",
      "1030000 lines processed\n",
      "1040000 lines processed\n",
      "1050000 lines processed\n",
      "1060000 lines processed\n",
      "1070000 lines processed\n",
      "1080000 lines processed\n",
      "1090000 lines processed\n",
      "1100000 lines processed\n",
      "1110000 lines processed\n",
      "1120000 lines processed\n",
      "1130000 lines processed\n",
      "1140000 lines processed\n",
      "1150000 lines processed\n",
      "1160000 lines processed\n",
      "1170000 lines processed\n",
      "1180000 lines processed\n",
      "1190000 lines processed\n",
      "1200000 lines processed\n",
      "1210000 lines processed\n",
      "1220000 lines processed\n",
      "1230000 lines processed\n",
      "1240000 lines processed\n",
      "1250000 lines processed\n",
      "Set completed.\n",
      "X_train shape: (2499130, 128)\n",
      "y_train shape: (2499130,)\n"
     ]
    }
   ],
   "source": [
    "deleted_substr = ['#', '<user>', '<url>']\n",
    "\n",
    "dataset.create_train_test('../data/train_pos_full.txt', '../data/train_neg_full.txt', \n",
    "                          delete_substr=deleted_substr, \n",
    "                          training=True)"
   ]
  },
  {
   "cell_type": "code",
   "execution_count": 83,
   "metadata": {},
   "outputs": [
    {
     "name": "stdout",
     "output_type": "stream",
     "text": [
      "(2499130, 128)\n"
     ]
    }
   ],
   "source": [
    "X_train = np.load('X_train.npy')\n",
    "y_train = np.load('y_train.npy')\n",
    "print(X_train.shape)"
   ]
  },
  {
   "cell_type": "code",
   "execution_count": 84,
   "metadata": {},
   "outputs": [
    {
     "name": "stdout",
     "output_type": "stream",
     "text": [
      "(1999304, 128)\n",
      "(499826, 128)\n"
     ]
    }
   ],
   "source": [
    "scaler = MinMaxScaler(feature_range=(-1,1))\n",
    "X_train = scaler.fit_transform(X_train)\n",
    "\n",
    "X_train, X_valid, y_train, y_valid = train_test_split(X_train, y_train, test_size=0.2, random_state=23)\n",
    "\n",
    "print(X_train.shape)\n",
    "print(X_valid.shape)"
   ]
  },
  {
   "cell_type": "markdown",
   "metadata": {},
   "source": [
    "# 128-64-ep:10-bs:128, W2V=100, 0.822 on test set, 0.827 on valid set"
   ]
  },
  {
   "cell_type": "code",
   "execution_count": null,
   "metadata": {},
   "outputs": [
    {
     "name": "stdout",
     "output_type": "stream",
     "text": [
      "Epoch 1/15\n",
      "1999304/1999304 [==============================] - 49s 24us/step - loss: 0.3973 - acc: 0.8102\n",
      "Epoch 2/15\n",
      "1999304/1999304 [==============================] - 51s 25us/step - loss: 0.3738 - acc: 0.8241\n",
      "Epoch 3/15\n",
      "1999304/1999304 [==============================] - 48s 24us/step - loss: 0.3666 - acc: 0.8280\n",
      "Epoch 4/15\n",
      "1999304/1999304 [==============================] - 48s 24us/step - loss: 0.3623 - acc: 0.8305\n",
      "Epoch 5/15\n",
      "1999304/1999304 [==============================] - 50s 25us/step - loss: 0.3593 - acc: 0.8321\n",
      "Epoch 6/15\n",
      "1999304/1999304 [==============================] - 65s 33us/step - loss: 0.3568 - acc: 0.8334\n",
      "Epoch 7/15\n",
      "1999304/1999304 [==============================] - 50s 25us/step - loss: 0.3549 - acc: 0.8344\n",
      "Epoch 8/15\n",
      "1999304/1999304 [==============================] - 47s 23us/step - loss: 0.3532 - acc: 0.8354\n",
      "Epoch 9/15\n",
      "1999304/1999304 [==============================] - 51s 25us/step - loss: 0.3519 - acc: 0.8363\n",
      "Epoch 10/15\n",
      "1999304/1999304 [==============================] - 50s 25us/step - loss: 0.3508 - acc: 0.8368\n",
      "Epoch 11/15\n",
      " 172288/1999304 [=>............................] - ETA: 47s - loss: 0.3451 - acc: 0.8402"
     ]
    }
   ],
   "source": [
    "from keras.models import Sequential\n",
    "from keras.layers import Dense\n",
    "from keras.layers import BatchNormalization\n",
    "from keras.layers import Activation\n",
    "np.random.seed(23)\n",
    "\n",
    "model = Sequential()\n",
    "model.add(Dense(128, input_dim=128, activation='relu'))\n",
    "model.add(Dense(64, activation='relu'))\n",
    "model.add(Dense(1, activation='sigmoid'))\n",
    "\n",
    "model.compile(loss='binary_crossentropy', optimizer='adam', metrics=['accuracy'])\n",
    "model.fit(X_train, y_train, epochs=15, batch_size=128)"
   ]
  },
  {
   "cell_type": "code",
   "execution_count": 77,
   "metadata": {},
   "outputs": [
    {
     "data": {
      "text/plain": [
       "[<matplotlib.lines.Line2D at 0x1aeaaede48>]"
      ]
     },
     "execution_count": 77,
     "metadata": {},
     "output_type": "execute_result"
    },
    {
     "data": {
      "image/png": "[encoded data removed]",
      "text/plain": [
       "<matplotlib.figure.Figure at 0x1ac3d30898>"
      ]
     },
     "metadata": {},
     "output_type": "display_data"
    }
   ],
   "source": [
    "plt.plot(model.history.epoch, model.history.history['loss'])"
   ]
  },
  {
   "cell_type": "code",
   "execution_count": 78,
   "metadata": {},
   "outputs": [
    {
     "name": "stdout",
     "output_type": "stream",
     "text": [
      "499826/499826 [==============================] - 23s 46us/step\n"
     ]
    },
    {
     "data": {
      "text/plain": [
       "[0.3550404482837187, 0.8346444562700668]"
      ]
     },
     "execution_count": 78,
     "metadata": {},
     "output_type": "execute_result"
    }
   ],
   "source": [
    "model.evaluate(X_valid, y_valid)"
   ]
  },
  {
   "cell_type": "code",
   "execution_count": 68,
   "metadata": {},
   "outputs": [
    {
     "name": "stdout",
     "output_type": "stream",
     "text": [
      "Total lines (label = 1): 10000\n"
     ]
    },
    {
     "ename": "AttributeError",
     "evalue": "'numpy.ndarray' object has no attribute 'append'",
     "output_type": "error",
     "traceback": [
      "\u001b[0;31m---------------------------------------------------------------------------\u001b[0m",
      "\u001b[0;31mAttributeError\u001b[0m                            Traceback (most recent call last)",
      "\u001b[0;32m<ipython-input-68-f40acdb4e1d7>\u001b[0m in \u001b[0;36m<module>\u001b[0;34m()\u001b[0m\n\u001b[0;32m----> 1\u001b[0;31m \u001b[0mdataset\u001b[0m\u001b[0;34m.\u001b[0m\u001b[0mcreate_train_test\u001b[0m\u001b[0;34m(\u001b[0m\u001b[0;34m'../data/test_data.txt'\u001b[0m\u001b[0;34m,\u001b[0m \u001b[0;34m''\u001b[0m\u001b[0;34m,\u001b[0m \u001b[0mdelete_substr\u001b[0m\u001b[0;34m=\u001b[0m\u001b[0mdeleted_substr\u001b[0m\u001b[0;34m,\u001b[0m \u001b[0mtraining\u001b[0m\u001b[0;34m=\u001b[0m\u001b[0;32mFalse\u001b[0m\u001b[0;34m)\u001b[0m\u001b[0;34m\u001b[0m\u001b[0m\n\u001b[0m",
      "\u001b[0;32m~/Desktop/EPFL_ML_Project2/src/Dataset.py\u001b[0m in \u001b[0;36mcreate_train_test\u001b[0;34m(self, positive_training, negative_training, delete_substr, training, model)\u001b[0m\n\u001b[1;32m    130\u001b[0m \u001b[0;34m\u001b[0m\u001b[0m\n\u001b[1;32m    131\u001b[0m         \u001b[0;32melse\u001b[0m\u001b[0;34m:\u001b[0m\u001b[0;34m\u001b[0m\u001b[0m\n\u001b[0;32m--> 132\u001b[0;31m             \u001b[0mself\u001b[0m\u001b[0;34m.\u001b[0m\u001b[0m__insert_data\u001b[0m\u001b[0;34m(\u001b[0m\u001b[0mpositive_training\u001b[0m\u001b[0;34m,\u001b[0m \u001b[0mdelete_substr\u001b[0m\u001b[0;34m,\u001b[0m \u001b[0;36m1\u001b[0m\u001b[0;34m,\u001b[0m \u001b[0mtraining\u001b[0m\u001b[0;34m)\u001b[0m\u001b[0;34m\u001b[0m\u001b[0m\n\u001b[0m\u001b[1;32m    133\u001b[0m \u001b[0;34m\u001b[0m\u001b[0m\n\u001b[1;32m    134\u001b[0m             \u001b[0mself\u001b[0m\u001b[0;34m.\u001b[0m\u001b[0mX_test\u001b[0m \u001b[0;34m=\u001b[0m \u001b[0mnp\u001b[0m\u001b[0;34m.\u001b[0m\u001b[0marray\u001b[0m\u001b[0;34m(\u001b[0m\u001b[0mself\u001b[0m\u001b[0;34m.\u001b[0m\u001b[0mX_test\u001b[0m\u001b[0;34m)\u001b[0m\u001b[0;34m\u001b[0m\u001b[0m\n",
      "\u001b[0;32m~/Desktop/EPFL_ML_Project2/src/Dataset.py\u001b[0m in \u001b[0;36m__insert_data\u001b[0;34m(self, file_path, delete_substr, label, training)\u001b[0m\n\u001b[1;32m     64\u001b[0m                         \u001b[0mself\u001b[0m\u001b[0;34m.\u001b[0m\u001b[0my_train\u001b[0m\u001b[0;34m.\u001b[0m\u001b[0mappend\u001b[0m\u001b[0;34m(\u001b[0m\u001b[0mlabel\u001b[0m\u001b[0;34m)\u001b[0m\u001b[0;34m\u001b[0m\u001b[0m\n\u001b[1;32m     65\u001b[0m                     \u001b[0;32melse\u001b[0m\u001b[0;34m:\u001b[0m\u001b[0;34m\u001b[0m\u001b[0m\n\u001b[0;32m---> 66\u001b[0;31m                         \u001b[0mself\u001b[0m\u001b[0;34m.\u001b[0m\u001b[0mX_test\u001b[0m\u001b[0;34m.\u001b[0m\u001b[0mappend\u001b[0m\u001b[0;34m(\u001b[0m\u001b[0mavg_vec\u001b[0m\u001b[0;34m)\u001b[0m\u001b[0;34m\u001b[0m\u001b[0m\n\u001b[0m\u001b[1;32m     67\u001b[0m \u001b[0;34m\u001b[0m\u001b[0m\n\u001b[1;32m     68\u001b[0m                 \u001b[0;32melif\u001b[0m \u001b[0mcounter\u001b[0m \u001b[0;34m==\u001b[0m \u001b[0;36m0\u001b[0m \u001b[0;32mand\u001b[0m \u001b[0mtraining\u001b[0m \u001b[0;32mis\u001b[0m \u001b[0;32mFalse\u001b[0m\u001b[0;34m:\u001b[0m\u001b[0;34m\u001b[0m\u001b[0m\n",
      "\u001b[0;31mAttributeError\u001b[0m: 'numpy.ndarray' object has no attribute 'append'"
     ]
    }
   ],
   "source": [
    "dataset.create_train_test('../data/test_data.txt', '', delete_substr=deleted_substr, training=False)"
   ]
  },
  {
   "cell_type": "markdown",
   "metadata": {},
   "source": [
    "***"
   ]
  },
  {
   "cell_type": "code",
   "execution_count": 69,
   "metadata": {},
   "outputs": [],
   "source": [
    "X_test = np.load('X_test.npy')\n",
    "X_test = scaler.transform(X_test)"
   ]
  },
  {
   "cell_type": "code",
   "execution_count": 70,
   "metadata": {},
   "outputs": [
    {
     "data": {
      "text/plain": [
       "(10000, 128)"
      ]
     },
     "execution_count": 70,
     "metadata": {},
     "output_type": "execute_result"
    }
   ],
   "source": [
    "X_test.shape"
   ]
  },
  {
   "cell_type": "code",
   "execution_count": 71,
   "metadata": {},
   "outputs": [],
   "source": [
    "pred = model.predict_classes(X_test)"
   ]
  },
  {
   "cell_type": "code",
   "execution_count": 72,
   "metadata": {},
   "outputs": [],
   "source": [
    "pred[pred == 0] = -1"
   ]
  },
  {
   "cell_type": "code",
   "execution_count": 73,
   "metadata": {},
   "outputs": [],
   "source": [
    "pred = pred.flatten()"
   ]
  },
  {
   "cell_type": "code",
   "execution_count": 74,
   "metadata": {},
   "outputs": [],
   "source": [
    "create_csv_submission(range(1,10001), pred, 'output.csv')"
   ]
  },
  {
   "cell_type": "code",
   "execution_count": null,
   "metadata": {},
   "outputs": [],
   "source": []
  }
 ],
 "metadata": {
  "kernelspec": {
   "display_name": "Python 3",
   "language": "python",
   "name": "python3"
  },
  "language_info": {
   "codemirror_mode": {
    "name": "ipython",
    "version": 3
   },
   "file_extension": ".py",
   "mimetype": "text/x-python",
   "name": "python",
   "nbconvert_exporter": "python",
   "pygments_lexer": "ipython3",
   "version": "3.6.4"
  }
 },
 "nbformat": 4,
 "nbformat_minor": 2
}
